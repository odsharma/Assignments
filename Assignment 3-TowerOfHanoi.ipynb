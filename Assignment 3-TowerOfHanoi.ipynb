{
 "cells": [
  {
   "cell_type": "code",
   "execution_count": 1,
   "id": "46e05d3e",
   "metadata": {},
   "outputs": [],
   "source": [
    "#Tower of Hanoi"
   ]
  },
  {
   "cell_type": "code",
   "execution_count": 3,
   "id": "1da34699",
   "metadata": {},
   "outputs": [],
   "source": [
    "def tower_of_hanoi(n,src,target,aux):\n",
    "    if n==1:\n",
    "        print(f\"Move disk {n} from {src} to {target}\")\n",
    "    else:\n",
    "        tower_of_hanoi(n-1,src,aux,target) \n",
    "        print(f\"Move disk {n} from {src} to {target}\")\n",
    "        tower_of_hanoi(n-1,aux,target,src) \n",
    "        "
   ]
  },
  {
   "cell_type": "code",
   "execution_count": 6,
   "id": "c17f1cfc",
   "metadata": {},
   "outputs": [
    {
     "name": "stdout",
     "output_type": "stream",
     "text": [
      "Move disk 1 from A to B\n",
      "Move disk 2 from A to C\n",
      "Move disk 1 from B to C\n",
      "Move disk 3 from A to B\n",
      "Move disk 1 from C to A\n",
      "Move disk 2 from C to B\n",
      "Move disk 1 from A to B\n"
     ]
    }
   ],
   "source": [
    "tower_of_hanoi(3,'A','B','C')"
   ]
  },
  {
   "cell_type": "code",
   "execution_count": 7,
   "id": "b8f57f95",
   "metadata": {},
   "outputs": [],
   "source": [
    "#Write a wild card character matcher. * matches 0 or more chars. ? matches only one character.\n",
    "# a* -> abc, ab, ax, a \n",
    "# a? -> a1, a2, aa,\n",
    "\n",
    "# a*b -> axyzb, a123b, ab\n",
    "# a*b*c -> abc, abbbc, a1b1c\n",
    "# aa?b*:\n",
    "#     match: aa1b, aaxby, aa1bcdeffgshshshsh\n",
    "#     not match: aab, ab,"
   ]
  },
  {
   "cell_type": "code",
   "execution_count": 105,
   "id": "012fa744",
   "metadata": {},
   "outputs": [],
   "source": [
    "def isMatch(pattern, text):\n",
    "    if(pattern == text):\n",
    "        return True\n",
    "    if(pattern==\"*\" and not text):\n",
    "        return True\n",
    "    if (not pattern and not text):\n",
    "        return True\n",
    "    if (not text or not pattern):\n",
    "        return False\n",
    "    if (pattern[1:] and pattern[0]==\"?\"):\n",
    "        return isMatch(pattern[1:],text[1:])\n",
    "    if (len(pattern) ==1 and pattern[0]==\"?\"):\n",
    "        if text[0] and not text[1:]:\n",
    "            return True\n",
    "        else:\n",
    "            return False\n",
    "    if(pattern[1:] and pattern[0]==\"*\"):\n",
    "        count =0\n",
    "        for ele in text:\n",
    "            if(pattern[1] != ele):\n",
    "                count +=1\n",
    "                continue\n",
    "            else:\n",
    "                return isMatch(pattern[1:],text[count:])\n",
    "        if len(text) == count:\n",
    "            return False\n",
    "    if (len(pattern) ==1 and pattern[0]==\"*\"):\n",
    "        return True\n",
    "    if (pattern[0] != text[0]):\n",
    "        return False\n",
    "    else:\n",
    "        return isMatch(pattern[1:],text[1:])\n",
    "        \n",
    "    "
   ]
  },
  {
   "cell_type": "code",
   "execution_count": 106,
   "id": "f2b3c60d",
   "metadata": {},
   "outputs": [
    {
     "data": {
      "text/plain": [
       "True"
      ]
     },
     "execution_count": 106,
     "metadata": {},
     "output_type": "execute_result"
    }
   ],
   "source": [
    "# a* -> abc, ab, ax, a \n",
    "# a? -> a1, a2, aa,\n",
    "\n",
    "# a*b -> axyzb, a123b, ab\n",
    "# a*b*c -> abc, abbbc, a1b1c\n",
    "# aa?b*:\n",
    "#     match: aa1b, aaxby, aa1bcdeffgshshshsh\n",
    "#     not match: aab, ab,\n",
    "isMatch(\"a*b*c\",\"abc\")\n"
   ]
  },
  {
   "cell_type": "code",
   "execution_count": 12,
   "id": "73ea263d",
   "metadata": {},
   "outputs": [],
   "source": [
    "def diff_of_vectors(arr1,arr2):\n",
    "    index=0\n",
    "    result=[]\n",
    "   \n",
    "    while(index < len(arr1)):\n",
    "        result.append(arr1[index]-arr2[index])\n",
    "        index += 1\n",
    "    return result\n",
    "        "
   ]
  },
  {
   "cell_type": "code",
   "execution_count": null,
   "id": "99fe67ca",
   "metadata": {},
   "outputs": [],
   "source": [
    "def diff_of_vectors(a,b) :\n",
    "    c = [];\n",
    "    for i, val in enumerate(a):\n",
    "        print(a[i], b[i]);\n",
    "        val = (int(a[i]) - int(b[i]));\n",
    "        c.append(val);\n",
    "    print(c);"
   ]
  },
  {
   "cell_type": "code",
   "execution_count": 13,
   "id": "c983c1cf",
   "metadata": {},
   "outputs": [
    {
     "data": {
      "text/plain": [
       "[-1, -1, -1]"
      ]
     },
     "execution_count": 13,
     "metadata": {},
     "output_type": "execute_result"
    }
   ],
   "source": [
    "diff_of_vectors([1,2,3],[2,3,4])"
   ]
  },
  {
   "cell_type": "markdown",
   "id": "1d1c1f34",
   "metadata": {},
   "source": [
    "# Q2: Given two vectors (arrays or list of numbers). Find absolute distance between them. L1 Distance.\n",
    "\n",
    "### abs_distance([1,2,3], [2, 3, 4]) -> 3\n",
    "### abs_distance([5,4,1], [2, 3, 4]) -> 3+1+3 = 7"
   ]
  },
  {
   "cell_type": "code",
   "execution_count": 19,
   "id": "abe8d672",
   "metadata": {},
   "outputs": [],
   "source": [
    "def abs_distance(arr1,arr2):\n",
    "    index=0; distance =0\n",
    "   \n",
    "    while(index < len(arr1)):\n",
    "        value = arr1[index]-arr2[index]\n",
    "        if value<0 :\n",
    "            value = -value\n",
    "        distance += value \n",
    "        index += 1\n",
    "    return distance"
   ]
  },
  {
   "cell_type": "code",
   "execution_count": 20,
   "id": "0a4dd38d",
   "metadata": {},
   "outputs": [
    {
     "data": {
      "text/plain": [
       "7"
      ]
     },
     "execution_count": 20,
     "metadata": {},
     "output_type": "execute_result"
    }
   ],
   "source": [
    "abs_distance([5,4,1], [2, 3, 4])"
   ]
  },
  {
   "cell_type": "markdown",
   "id": "a5598844",
   "metadata": {},
   "source": [
    "# Q3: Given two 2D vectors representing two points, find the distance between two points.\n",
    "\n",
    "### distance([1,2], [3,5]) -> sqrt((3 - 1)**2 + (5-2)**2)\n",
    " ###   sqrt(13) = 3.605551275463989"
   ]
  },
  {
   "cell_type": "code",
   "execution_count": 26,
   "id": "51214d3a",
   "metadata": {},
   "outputs": [],
   "source": [
    "import math\n",
    "\n",
    "def distance2d(point1,point2):\n",
    "    x_distance = point1[0]-point2[0]\n",
    "    y_distance = point1[1]-point2[1]\n",
    "    dist = math.sqrt(x_distance**2 +y_distance**2)\n",
    "    return dist"
   ]
  },
  {
   "cell_type": "code",
   "execution_count": 27,
   "id": "acc0df16",
   "metadata": {},
   "outputs": [
    {
     "data": {
      "text/plain": [
       "3.605551275463989"
      ]
     },
     "execution_count": 27,
     "metadata": {},
     "output_type": "execute_result"
    }
   ],
   "source": [
    "distance2d([1,2], [3,5])"
   ]
  },
  {
   "cell_type": "markdown",
   "id": "21580f78",
   "metadata": {},
   "source": [
    "# Q4: Given two 3D vectors representing two points, find the distance between two points. \n",
    "\n",
    "### distance3d([1, 2, 3], [2,3,4] ) -> math.sqrt(3)"
   ]
  },
  {
   "cell_type": "code",
   "execution_count": 28,
   "id": "c75953a6",
   "metadata": {},
   "outputs": [],
   "source": [
    "import math\n",
    "\n",
    "def distance3d(point1,point2):\n",
    "    x_distance = point1[0]-point2[0]\n",
    "    y_distance = point1[1]-point2[1]\n",
    "    z_distance = point1[2]-point2[2]\n",
    "    dist = math.sqrt(x_distance**2 +y_distance**2+z_distance**2)\n",
    "    return dist"
   ]
  },
  {
   "cell_type": "code",
   "execution_count": 29,
   "id": "dd37e1fa",
   "metadata": {},
   "outputs": [
    {
     "data": {
      "text/plain": [
       "1.7320508075688772"
      ]
     },
     "execution_count": 29,
     "metadata": {},
     "output_type": "execute_result"
    }
   ],
   "source": [
    "distance3d([1, 2, 3], [2,3,4] )"
   ]
  },
  {
   "cell_type": "markdown",
   "id": "0d189b06",
   "metadata": {},
   "source": [
    "# Q5: Generalize problem Q4 for n dimensions.\n",
    "\n",
    "### distance = sqrt((x2-x1)**2+(y2-y1)**2+......n dimension)"
   ]
  },
  {
   "cell_type": "code",
   "execution_count": 39,
   "id": "8f1b6293",
   "metadata": {},
   "outputs": [],
   "source": [
    "import math\n",
    "\n",
    "def distanceNd(point1,point2):\n",
    "    sq_distance =0\n",
    "    for i in range(len(point1)):\n",
    "        sq_distance += (point1[i] - point2[i])**2\n",
    "    dist =math.sqrt(sq_distance)\n",
    "    return dist"
   ]
  },
  {
   "cell_type": "code",
   "execution_count": 40,
   "id": "5e350260",
   "metadata": {},
   "outputs": [
    {
     "data": {
      "text/plain": [
       "2.0"
      ]
     },
     "execution_count": 40,
     "metadata": {},
     "output_type": "execute_result"
    }
   ],
   "source": [
    "distanceNd([1, 2, 3,4], [2,3,4,5] )"
   ]
  },
  {
   "cell_type": "code",
   "execution_count": null,
   "id": "53160a69",
   "metadata": {},
   "outputs": [],
   "source": [
    "def diff_of_vectors(arr1,arr2):\n",
    "    result.append(arr1[0]-arr2[0])\n",
    "    return diff_of_vectors(arr[1:],arr[1:])\n",
    "   \n",
    "    while(index < len(arr1)):\n",
    "        result.append(arr1[index]-arr2[index])\n",
    "        index += 1\n",
    "    return result"
   ]
  }
 ],
 "metadata": {
  "kernelspec": {
   "display_name": "Python 3 (ipykernel)",
   "language": "python",
   "name": "python3"
  },
  "language_info": {
   "codemirror_mode": {
    "name": "ipython",
    "version": 3
   },
   "file_extension": ".py",
   "mimetype": "text/x-python",
   "name": "python",
   "nbconvert_exporter": "python",
   "pygments_lexer": "ipython3",
   "version": "3.9.7"
  }
 },
 "nbformat": 4,
 "nbformat_minor": 5
}
