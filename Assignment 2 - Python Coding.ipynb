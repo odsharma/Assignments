{
 "cells": [
  {
   "cell_type": "code",
   "execution_count": null,
   "id": "ff52f3ef",
   "metadata": {},
   "outputs": [],
   "source": [
    "### Calculate grosspay given hours and rate"
   ]
  },
  {
   "cell_type": "code",
   "execution_count": 1,
   "id": "f369ebb0",
   "metadata": {},
   "outputs": [
    {
     "name": "stdout",
     "output_type": "stream",
     "text": [
      "96.25\n"
     ]
    }
   ],
   "source": [
    "hours=35\n",
    "rate=2.75\n",
    "grosspay=hours * rate\n",
    "print (grosspay)"
   ]
  },
  {
   "cell_type": "code",
   "execution_count": null,
   "id": "26fd4ae9",
   "metadata": {},
   "outputs": [],
   "source": [
    "### Rewrite the pay computation to give the employee 1.5 times the hourly rate for hours worked above 40 hours"
   ]
  },
  {
   "cell_type": "code",
   "execution_count": 4,
   "id": "713fdc25",
   "metadata": {},
   "outputs": [
    {
     "name": "stdout",
     "output_type": "stream",
     "text": [
      "Enter Hours: 45\n",
      "Enter rate: 10\n",
      "Grosspay: 475.0\n"
     ]
    }
   ],
   "source": [
    "hours=float(input(\"Enter Hours: \"))\n",
    "rate=float(input(\"Enter rate: \"))\n",
    "if hours<=40 :\n",
    "    grosspay = hours*rate\n",
    "else:\n",
    "    additional_hours = hours-40\n",
    "    grosspay= (40 * rate) + (additional_hours*rate*1.5)\n",
    "\n",
    "print (\"Grosspay:\" ,grosspay)"
   ]
  },
  {
   "cell_type": "code",
   "execution_count": 7,
   "id": "13a06d34",
   "metadata": {},
   "outputs": [],
   "source": [
    "### Write a program to compute the total amount after compounded interest\n",
    "\n",
    "## Principle: Rate: Time (year):\n",
    "\n",
    "## Print the total amount after applying compound interest.\n",
    "\n",
    "## Total = Principle * (1 + rate/100)**years"
   ]
  },
  {
   "cell_type": "code",
   "execution_count": 1,
   "id": "acd35c95",
   "metadata": {},
   "outputs": [
    {
     "name": "stdout",
     "output_type": "stream",
     "text": [
      "4112.70\n"
     ]
    }
   ],
   "source": [
    "principle = 3500\n",
    "rate = 8.4\n",
    "time = 2\n",
    "total = principle *(1 + rate/100)**time\n",
    "print (format(total,'.2f'))"
   ]
  },
  {
   "cell_type": "code",
   "execution_count": null,
   "id": "88a8dffa",
   "metadata": {},
   "outputs": [],
   "source": [
    "# Print all strings that can be generated from a list of letters.\n",
    "\n",
    "# Input: abc\n",
    "# Output:\n",
    "# abc\n",
    "# acb\n",
    "# bac\n",
    "# bca\n",
    "# cab\n",
    "# cba"
   ]
  },
  {
   "cell_type": "code",
   "execution_count": 71,
   "id": "8b742fbb",
   "metadata": {},
   "outputs": [
    {
     "name": "stdout",
     "output_type": "stream",
     "text": [
      "['abcd', 'abdc', 'acbd', 'acdb', 'adbc', 'adcb', 'bacd', 'badc', 'bcad', 'bcda', 'bdac', 'bdca', 'cabd', 'cadb', 'cbad', 'cbda', 'cdab', 'cdba', 'dabc', 'dacb', 'dbac', 'dbca', 'dcab', 'dcba']\n"
     ]
    }
   ],
   "source": [
    "    def generate_permutations(input):\n",
    "        if len(input) == 1:  \n",
    "            return [input]  \n",
    "        elif len(input) == 2:\n",
    "            return [input[:2],input[::-1]]\n",
    "        else:  \n",
    "            permutations = []\n",
    "            for i in range(len(input)):\n",
    "                fixed_char = input[i]\n",
    "                remaining_char =input[:i]+input[i+1:]\n",
    "\n",
    "                sub_permutations = generate_permutations(remaining_char)  \n",
    "\n",
    "                for sub_permutation in sub_permutations:\n",
    "                    permutations.append(fixed_char+sub_permutation)\n",
    "            return permutations\n",
    "\n",
    "print(generate_permutations(\"abcd\"))"
   ]
  },
  {
   "cell_type": "code",
   "execution_count": 43,
   "id": "1176fc8f",
   "metadata": {},
   "outputs": [
    {
     "name": "stdout",
     "output_type": "stream",
     "text": [
      "0.4813344617557189\n"
     ]
    }
   ],
   "source": [
    "# Problem: BLEU Score. Code it\n",
    "'''\n",
    "Bleu(N) =Brevity Penalty * Geometric Average Precision scores\n",
    "c= predicted length\n",
    "r= target length\n",
    "\n",
    "Brevity Penalty \n",
    "       =1 , if c>r \n",
    "       =e**(1-r/c) , if c<=r\n",
    "       \n",
    "Geometric Average Precision scores = p1**(1/4) * p2**(1/4)  *p3**(1/4) * p4**(1/4)\n",
    "'''\n",
    "import math\n",
    "\n",
    "\n",
    "def find_precision(target_list,predicted_list):\n",
    "    intersection = set(target_list)& set(predicted_list)\n",
    "    precision= len(intersection) /len(predicted_list)\n",
    "    return precision\n",
    "\n",
    "def find_brevity(target,predicted):\n",
    "    c= len(predicted)\n",
    "    r= len(target)\n",
    "    if (c>r):\n",
    "        brevity =1\n",
    "    else:\n",
    "        brevity = math.exp(1-(r/c))\n",
    "    return brevity\n",
    "\n",
    "def calculate_geometric_avg_precision(target,predicted):\n",
    "    # 1-gram\n",
    "    target_list =target.split()\n",
    "    predicted_list =predicted.split()\n",
    "    p1 =find_precision(target_list,predicted_list)\n",
    "    \n",
    "    #2-gram\n",
    "    two_gram_target=[]\n",
    "    two_gram_predicted=[]\n",
    "    for i in range(len(predicted_list)-1): \n",
    "        if ((i+1)<len(predicted_list)):\n",
    "            two_gram_predicted.append(predicted_list[i]+\" \"+predicted_list[i+1])\n",
    "    for i in range(len(target_list)):\n",
    "        if ((i+1)<len(target_list)):\n",
    "            two_gram_target.append(target_list[i]+\" \"+target_list[i+1])\n",
    "    p2 =find_precision(two_gram_target,two_gram_predicted)\n",
    "    \n",
    "    #3-gram\n",
    "    three_gram_target=[]\n",
    "    three_gram_predicted=[]\n",
    "    for i in range(len(predicted_list)-1): \n",
    "        if ((i+2)<len(predicted_list)):\n",
    "            three_gram_predicted.append(predicted_list[i]+\" \"+predicted_list[i+1]+\" \"+predicted_list[i+2])\n",
    "    for i in range(len(target_list)):\n",
    "        if ((i+2)<len(target_list)):\n",
    "            three_gram_target.append(target_list[i]+\" \"+target_list[i+1]+\" \"+target_list[i+2])\n",
    "    p3 =find_precision(three_gram_target,three_gram_predicted)\n",
    "    \n",
    "    #4-gram\n",
    "    four_gram_target=[]\n",
    "    four_gram_predicted=[]\n",
    "    for i in range(len(predicted_list)-1): \n",
    "        if ((i+3)<len(predicted_list)):\n",
    "            four_gram_predicted.append(predicted_list[i]+\" \"+predicted_list[i+1]+\" \"+predicted_list[i+2]+\" \"+predicted_list[i+3])\n",
    "    for i in range(len(target_list)):\n",
    "        if ((i+3)<len(target_list)):\n",
    "            four_gram_target.append(target_list[i]+\" \"+target_list[i+1]+\" \"+target_list[i+2]+\" \"+target_list[i+3])\n",
    "    p4 =find_precision(four_gram_target,four_gram_predicted)\n",
    "\n",
    "    geometric_avg_precision = p1**(1/4) * p2**(1/4) * p3**(1/4) * p4**(1/4)\n",
    "    return geometric_avg_precision\n",
    "\n",
    "def calculateBleuScore(target,predicted):\n",
    "    brevity = find_brevity(target,predicted)\n",
    "    geometric_avg_precision = calculate_geometric_avg_precision(target,predicted)\n",
    "    bleu_score4 = brevity * geometric_avg_precision\n",
    "    return bleu_score4\n",
    "    \n",
    "\n",
    "target_sentence=\"The guard arrived late because it was raining\"\n",
    "predicted_sentence=\"The guard arrived late because of the rain\"   \n",
    "bleu_score4 = calculateBleuScore(target_sentence,predicted_sentence)\n",
    "print(bleu_score4)"
   ]
  },
  {
   "cell_type": "code",
   "execution_count": 10,
   "id": "5764bbcb",
   "metadata": {},
   "outputs": [],
   "source": [
    "# Code multiplication without using * or loops"
   ]
  },
  {
   "cell_type": "code",
   "execution_count": 2,
   "id": "31614029",
   "metadata": {},
   "outputs": [
    {
     "name": "stdout",
     "output_type": "stream",
     "text": [
      "50\n"
     ]
    }
   ],
   "source": [
    "a=10\n",
    "b=5\n",
    "def multiply(x,y):\n",
    "    if (y<0):\n",
    "        return -multiply(x,-y)\n",
    "    elif (y==0):\n",
    "        return 0\n",
    "    elif (y==1):\n",
    "        return x\n",
    "    else:\n",
    "        return x + multiply(x,y-1)\n",
    "\n",
    "product = multiply(a,b)\n",
    "print (product)"
   ]
  },
  {
   "cell_type": "code",
   "execution_count": 3,
   "id": "90da2568",
   "metadata": {},
   "outputs": [
    {
     "data": {
      "text/plain": [
       "'A'"
      ]
     },
     "execution_count": 3,
     "metadata": {},
     "output_type": "execute_result"
    }
   ],
   "source": [
    "chr(65)\n"
   ]
  },
  {
   "cell_type": "code",
   "execution_count": 4,
   "id": "6f6280fc",
   "metadata": {},
   "outputs": [],
   "source": [
    "def analyze(arr):\n",
    "    return max(arr), min(arr)"
   ]
  },
  {
   "cell_type": "code",
   "execution_count": 5,
   "id": "245ae8cc",
   "metadata": {},
   "outputs": [
    {
     "data": {
      "text/plain": [
       "(23, 1)"
      ]
     },
     "execution_count": 5,
     "metadata": {},
     "output_type": "execute_result"
    }
   ],
   "source": [
    "analyze([1,2,7,23])"
   ]
  },
  {
   "cell_type": "code",
   "execution_count": null,
   "id": "b394c15e",
   "metadata": {},
   "outputs": [],
   "source": []
  }
 ],
 "metadata": {
  "kernelspec": {
   "display_name": "Python 3 (ipykernel)",
   "language": "python",
   "name": "python3"
  },
  "language_info": {
   "codemirror_mode": {
    "name": "ipython",
    "version": 3
   },
   "file_extension": ".py",
   "mimetype": "text/x-python",
   "name": "python",
   "nbconvert_exporter": "python",
   "pygments_lexer": "ipython3",
   "version": "3.9.7"
  }
 },
 "nbformat": 4,
 "nbformat_minor": 5
}
