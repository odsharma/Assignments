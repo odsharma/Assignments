{
 "cells": [
  {
   "cell_type": "code",
   "execution_count": null,
   "id": "b624f864",
   "metadata": {},
   "outputs": [],
   "source": [
    "#Write a wild card character matcher. * matches 0 or more chars. ? matches only one character.\n",
    "# a* -> abc, ab, ax, a \n",
    "# a? -> a1, a2, aa,\n",
    "\n",
    "# a*b -> axyzb, a123b, ab\n",
    "# a*b*c -> abc, abbbc, a1b1c\n",
    "# aa?b*:\n",
    "#     match: aa1b, aaxby, aa1bcdeffgshshshsh\n",
    "#     not match: aab, ab,"
   ]
  },
  {
   "cell_type": "code",
   "execution_count": 10,
   "id": "ddcf9545",
   "metadata": {},
   "outputs": [],
   "source": [
    "def isMatch(pattern, text):\n",
    "    if(pattern == text):\n",
    "        return True\n",
    "    if(pattern==\"*\" and not text):\n",
    "        return True\n",
    "    if (not pattern and not text):\n",
    "        return True\n",
    "    if (not text or not pattern):\n",
    "        return False\n",
    "    if (pattern[1:] and pattern[0]==\"?\"):\n",
    "        return isMatch(pattern[1:],text[1:])\n",
    "    if (len(pattern) ==1 and pattern[0]==\"?\"):\n",
    "        if text[0] and not text[1:]:\n",
    "            return True\n",
    "        else:\n",
    "            return False\n",
    "    if(pattern[1:] and pattern[0]==\"*\"):\n",
    "        count =0\n",
    "        for ele in text:\n",
    "            if(pattern[1] != ele):\n",
    "                count +=1\n",
    "                continue\n",
    "            else:\n",
    "                return isMatch(pattern[1:],text[count:])\n",
    "        if len(text) == count:\n",
    "            return False\n",
    "    if (len(pattern) ==1 and pattern[0]==\"*\"):\n",
    "        return True\n",
    "    if (pattern[0] != text[0]):\n",
    "        return False\n",
    "    else:\n",
    "        return isMatch(pattern[1:],text[1:])"
   ]
  },
  {
   "cell_type": "code",
   "execution_count": 13,
   "id": "105880f6",
   "metadata": {},
   "outputs": [
    {
     "data": {
      "text/plain": [
       "True"
      ]
     },
     "execution_count": 13,
     "metadata": {},
     "output_type": "execute_result"
    }
   ],
   "source": [
    "# a* -> abc, ab, ax, a \n",
    "# a? -> a1, a2, aa,\n",
    "\n",
    "# a*b -> axyzb, a123b, ab\n",
    "# a*b*c -> abc, abbbc, a1b1c\n",
    "# aa?b*:\n",
    "#     match: aa1b, aaxby, aa1bcdeffgshshshsh\n",
    "#     not match: aab, ab,\n",
    "isMatch(\"a*b\",\"aadddb\")"
   ]
  },
  {
   "cell_type": "markdown",
   "id": "c5e7d50f",
   "metadata": {},
   "source": [
    "## Q1: Coin Toss: Create a function that return 0 or 1 with equal probability.\n",
    "Hint: random.random()"
   ]
  },
  {
   "cell_type": "code",
   "execution_count": null,
   "id": "ba4406f4",
   "metadata": {},
   "outputs": [],
   "source": [
    "from random import random\n",
    "def coint_toss():\n",
    "    r = random()\n",
    "    if r <= 0.5:\n",
    "        return 0\n",
    "    else:\n",
    "        return 1"
   ]
  },
  {
   "cell_type": "markdown",
   "id": "5abb599e",
   "metadata": {},
   "source": [
    "## Q2: Coin Toss: Create a function that return 0, 1, 2 with equal probability."
   ]
  },
  {
   "cell_type": "code",
   "execution_count": null,
   "id": "6a8475a3",
   "metadata": {},
   "outputs": [],
   "source": [
    "from random import random\n",
    "def coin_toss_0_1_2():\n",
    "    r = random()\n",
    "    if r <= 0.33:\n",
    "        return 0\n",
    "    elif r<=0.66:\n",
    "        return 1\n",
    "    else:\n",
    "        return 2"
   ]
  },
  {
   "cell_type": "markdown",
   "id": "dcee6f5d",
   "metadata": {},
   "source": [
    "## Q3: Create a n faced die which generates number from 0 to n - 1 with equal probability."
   ]
  },
  {
   "cell_type": "code",
   "execution_count": null,
   "id": "6d4adf4f",
   "metadata": {},
   "outputs": [],
   "source": [
    "def coin_toss_n(n): \n",
    "    r = n*random()\n",
    "    return int(r)\n"
   ]
  },
  {
   "cell_type": "markdown",
   "id": "26d5b3df",
   "metadata": {},
   "source": [
    "## Q4: Unfair Coin: \n",
    "def coin_toss(p1, p2):\n",
    "    # p1 /(p1 + p2), p2/(p1+p2)\n",
    "    # return 0 p1 probability\n",
    "    # return 1 with p2 probability"
   ]
  },
  {
   "cell_type": "code",
   "execution_count": null,
   "id": "1d77c0d7",
   "metadata": {},
   "outputs": [],
   "source": [
    "from random import random\n",
    "def unfair_coin_toss(p1, p2):\n",
    "    r=random()\n",
    "    if r<=p1:\n",
    "        return 0\n",
    "    else:\n",
    "        return 1"
   ]
  },
  {
   "cell_type": "markdown",
   "id": "722e16dc",
   "metadata": {},
   "source": [
    "## Q5: coin_toss, takes three probability p1, p2, p3 as arguments.\n",
    "\n",
    "Return 0 with p1 probability. 1 with p2 probability. 2 with p3 probability.\n",
    "coin_toss_3(0.7, 0.2, 0.1) # 0 - 70% of times, 1 - 20% of time, 2 - 10% of time"
   ]
  },
  {
   "cell_type": "code",
   "execution_count": 1,
   "id": "215cbb9f",
   "metadata": {},
   "outputs": [],
   "source": [
    "from random import random\n",
    "def coin_toss(p1, p2, p3):\n",
    "    r=random()\n",
    "    if r<=p1:\n",
    "        return 0\n",
    "    elif r>p1 and r<=(p1+p2):\n",
    "        return 1\n",
    "    else:\n",
    "        return 2"
   ]
  },
  {
   "cell_type": "markdown",
   "id": "f0679b31",
   "metadata": {},
   "source": [
    "## Q6: Generalize coin_toss, takes n probability p1, p2, p3..pn-1 as arguments."
   ]
  },
  {
   "cell_type": "code",
   "execution_count": 7,
   "id": "367dd101",
   "metadata": {},
   "outputs": [],
   "source": [
    "from random import random\n",
    "def unfair_coin_toss_n(*probability):\n",
    "    r= random()\n",
    "    cum_prob=0\n",
    "    for i,p in enumerate(probability):\n",
    "        cum_prob+=p\n",
    "        if r <= cum_prob:\n",
    "            return i\n"
   ]
  },
  {
   "cell_type": "code",
   "execution_count": 9,
   "id": "24032d88",
   "metadata": {},
   "outputs": [
    {
     "data": {
      "text/plain": [
       "[0.1014, 0.2002, 0.5017, 0.1967]"
      ]
     },
     "execution_count": 9,
     "metadata": {},
     "output_type": "execute_result"
    }
   ],
   "source": [
    "result = [0]*4\n",
    "itr=10000\n",
    "for _ in range(itr):\n",
    "    r=unfair_coin_toss_n(0.1,0.2,0.5,0.2)\n",
    "    result[r]+=1\n",
    "result=list(map(lambda x:x/itr, result))\n",
    "result"
   ]
  },
  {
   "cell_type": "code",
   "execution_count": null,
   "id": "2379c0a7",
   "metadata": {},
   "outputs": [],
   "source": []
  }
 ],
 "metadata": {
  "kernelspec": {
   "display_name": "Python 3 (ipykernel)",
   "language": "python",
   "name": "python3"
  },
  "language_info": {
   "codemirror_mode": {
    "name": "ipython",
    "version": 3
   },
   "file_extension": ".py",
   "mimetype": "text/x-python",
   "name": "python",
   "nbconvert_exporter": "python",
   "pygments_lexer": "ipython3",
   "version": "3.9.7"
  }
 },
 "nbformat": 4,
 "nbformat_minor": 5
}
