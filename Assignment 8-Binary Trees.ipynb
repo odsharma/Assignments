{
 "cells": [
  {
   "cell_type": "markdown",
   "id": "e135000c",
   "metadata": {},
   "source": [
    "## Trees - Binary Trees\n",
    "#### Evaluate expressions using Binary Tree"
   ]
  },
  {
   "cell_type": "code",
   "execution_count": 15,
   "id": "6570801d",
   "metadata": {},
   "outputs": [],
   "source": [
    "class Node():\n",
    "    def __init__(self,typ,val,left,right):\n",
    "        self.typ=typ\n",
    "        self.val=val\n",
    "        self.left=left\n",
    "        self.right=right\n",
    "    def __repr__(self,indent=''):\n",
    "        leftstr, rightstr = '', ''\n",
    "        if self.left:\n",
    "            leftstr = self.left.__repr__(indent + '\\t')\n",
    "        if self.right:\n",
    "            rightstr = self.right.__repr__(indent + '\\t')\n",
    "        return \"%s%s  -> \\n %s \\n %s\" % (indent,self.val, leftstr, rightstr)\n",
    "    def eval(self):\n",
    "        typ= self.typ\n",
    "        val= self.val\n",
    "        if typ ==1:\n",
    "            return val\n",
    "        else:\n",
    "            l,r = None,None\n",
    "            if self.left:\n",
    "                l=self.left.eval()\n",
    "            if self.right:\n",
    "                r=self.right.eval()\n",
    "            if val =='+':\n",
    "                return l+r\n",
    "            if val =='-':\n",
    "                return l-r\n",
    "            if val =='*':\n",
    "                return l*r\n",
    "            if val =='/':\n",
    "                return l/r\n",
    "            if val =='^':\n",
    "                return l**r\n",
    "            "
   ]
  },
  {
   "cell_type": "code",
   "execution_count": 18,
   "id": "bc08fb35",
   "metadata": {},
   "outputs": [],
   "source": [
    "_2=Node(typ=1,val=2,left=None,right=None)\n",
    "_3=Node(typ=1,val=3,left=None,right=None)\n",
    "_4=Node(typ=1,val=4,left=None,right=None)\n",
    "_mul =Node(typ=0,val='*',left=_2,right=_3)\n",
    "tree = Node(typ=0,val='+',left=_mul,right=_4)"
   ]
  },
  {
   "cell_type": "code",
   "execution_count": 19,
   "id": "26e8c4d5",
   "metadata": {},
   "outputs": [
    {
     "name": "stdout",
     "output_type": "stream",
     "text": [
      "+  -> \n",
      " \t*  -> \n",
      " \t\t2  -> \n",
      "  \n",
      "  \n",
      " \t\t3  -> \n",
      "  \n",
      "  \n",
      " \t4  -> \n",
      "  \n",
      " \n"
     ]
    }
   ],
   "source": [
    "print (tree)"
   ]
  },
  {
   "cell_type": "markdown",
   "id": "545351eb",
   "metadata": {},
   "source": [
    "### Binary Search Tree"
   ]
  },
  {
   "cell_type": "code",
   "execution_count": 40,
   "id": "09289cf2",
   "metadata": {},
   "outputs": [],
   "source": [
    "class Node():\n",
    "    def __init__(self, val=None, left=None, right=None):\n",
    "        self.val = val\n",
    "        self.left = left\n",
    "        self.right = right\n",
    "    def __repr__(self, indent=''):\n",
    "        leftstr, rightstr = '', ''\n",
    "        if self.left:\n",
    "            leftstr = self.left.__repr__(indent + '\\t')\n",
    "        if self.right:\n",
    "            rightstr = self.right.__repr__(indent + '\\t')\n",
    "        return f\"{self.val} -> \\n {indent} + {leftstr} \\n {indent} * {rightstr}\"\n",
    "    \n",
    "    def insert(self, node):\n",
    "        if node.val < self.val:\n",
    "            if self.left == None:\n",
    "                self.left = node\n",
    "            else:\n",
    "                self.left.insert(node)\n",
    "        else:\n",
    "            if self.right == None:\n",
    "                self.right = node\n",
    "            else:\n",
    "                self.right.insert(node)\n",
    "    def find(self, v):\n",
    "        if self.val == v:\n",
    "            return self\n",
    "        elif v < self.val:\n",
    "            if self.left == None:\n",
    "                return None\n",
    "            else:\n",
    "                return self.left.find(v)\n",
    "        else:\n",
    "            if self.right == None:\n",
    "                return None\n",
    "            else:\n",
    "                return self.right.find(v)\n",
    "    def delete(self, v, parent,pos):\n",
    "        if self.val == v:\n",
    "            if self.left == None and self.right == None:\n",
    "                if pos ==\"left\":\n",
    "                    parent.left = None\n",
    "                elif pos == \"right\":\n",
    "                    parent.right = None\n",
    "                return parent\n",
    "            elif self.left and self.right == None:\n",
    "                if pos ==\"left\":\n",
    "                    parent.left = self.left\n",
    "                elif pos == \"right\":\n",
    "                    parent.right = self.left\n",
    "                return parent\n",
    "            elif self.right and self.left == None:\n",
    "                if pos ==\"left\":\n",
    "                    parent.left = self.right\n",
    "                elif pos == \"right\":\n",
    "                    parent.right = self.right\n",
    "                return parent\n",
    "        elif v < self.val:\n",
    "            if self.left == None:\n",
    "                return None\n",
    "            else:\n",
    "                parent =self\n",
    "                pos = \"left\"\n",
    "                return self.left.delete(v,parent,pos)\n",
    "        else:\n",
    "            if self.right == None:\n",
    "                return None\n",
    "            else:\n",
    "                parent =self\n",
    "                pos = \"right\"\n",
    "                return self.right.delete(v,parent,pos)\n",
    "           \n",
    "\n",
    "class BST(): \n",
    "    def __init__(self):\n",
    "        self.root = None\n",
    "        self.parent = None\n",
    "        self.pos = None\n",
    "    def __repr__(self, indent=''):\n",
    "        if self.root:\n",
    "            return self.root.__repr__()\n",
    "    def insert(self, val):\n",
    "        n = Node(val)\n",
    "        if self.root == None:\n",
    "            self.root = n\n",
    "        else:\n",
    "            self.root.insert(n)\n",
    "    def find(self, v):\n",
    "        if self.root == None:\n",
    "            return None\n",
    "        else:\n",
    "            return self.root.find(v)\n",
    "    def delete(self, v, parent = None,pos = None):\n",
    "        self.parent = None\n",
    "        self.pos = None\n",
    "        if self.root == None:\n",
    "            return None\n",
    "        else:\n",
    "            return self.root.delete(v,parent,pos)"
   ]
  },
  {
   "cell_type": "code",
   "execution_count": 24,
   "id": "f47ac0a3",
   "metadata": {},
   "outputs": [],
   "source": [
    "bst = BST()\n",
    "bst.insert(10)"
   ]
  },
  {
   "cell_type": "code",
   "execution_count": 25,
   "id": "eafb5f91",
   "metadata": {},
   "outputs": [
    {
     "data": {
      "text/plain": [
       "10 -> \n",
       "  +  \n",
       "  * "
      ]
     },
     "execution_count": 25,
     "metadata": {},
     "output_type": "execute_result"
    }
   ],
   "source": [
    "bst.root"
   ]
  },
  {
   "cell_type": "code",
   "execution_count": 26,
   "id": "1b1ac9ab",
   "metadata": {},
   "outputs": [],
   "source": [
    "bst.insert(12)"
   ]
  },
  {
   "cell_type": "code",
   "execution_count": 27,
   "id": "8b4acb37",
   "metadata": {},
   "outputs": [],
   "source": [
    "bst.insert(7)\n",
    "bst.insert(15)\n",
    "bst.insert(31)\n",
    "bst.insert(20)"
   ]
  },
  {
   "cell_type": "code",
   "execution_count": 28,
   "id": "08720d2a",
   "metadata": {},
   "outputs": [
    {
     "data": {
      "text/plain": [
       "10 -> \n",
       "  + 7 -> \n",
       " \t +  \n",
       " \t *  \n",
       "  * 12 -> \n",
       " \t +  \n",
       " \t * 15 -> \n",
       " \t\t +  \n",
       " \t\t * 31 -> \n",
       " \t\t\t + 20 -> \n",
       " \t\t\t\t +  \n",
       " \t\t\t\t *  \n",
       " \t\t\t * "
      ]
     },
     "execution_count": 28,
     "metadata": {},
     "output_type": "execute_result"
    }
   ],
   "source": [
    "bst.root\n"
   ]
  },
  {
   "cell_type": "code",
   "execution_count": 29,
   "id": "2d7a7a21",
   "metadata": {},
   "outputs": [],
   "source": [
    "bst.insert(11)\n",
    "bst.insert(18)"
   ]
  },
  {
   "cell_type": "code",
   "execution_count": 30,
   "id": "d8f0becc",
   "metadata": {},
   "outputs": [
    {
     "data": {
      "text/plain": [
       "10 -> \n",
       "  + 7 -> \n",
       " \t +  \n",
       " \t *  \n",
       "  * 12 -> \n",
       " \t + 11 -> \n",
       " \t\t +  \n",
       " \t\t *  \n",
       " \t * 15 -> \n",
       " \t\t +  \n",
       " \t\t * 31 -> \n",
       " \t\t\t + 20 -> \n",
       " \t\t\t\t + 18 -> \n",
       " \t\t\t\t\t +  \n",
       " \t\t\t\t\t *  \n",
       " \t\t\t\t *  \n",
       " \t\t\t * "
      ]
     },
     "execution_count": 30,
     "metadata": {},
     "output_type": "execute_result"
    }
   ],
   "source": [
    "bst.root\n"
   ]
  },
  {
   "cell_type": "code",
   "execution_count": 41,
   "id": "0d6b043c",
   "metadata": {},
   "outputs": [
    {
     "ename": "TypeError",
     "evalue": "delete() missing 1 required positional argument: 'parent'",
     "output_type": "error",
     "traceback": [
      "\u001b[1;31m---------------------------------------------------------------------------\u001b[0m",
      "\u001b[1;31mTypeError\u001b[0m                                 Traceback (most recent call last)",
      "\u001b[1;32m~\\AppData\\Local\\Temp/ipykernel_4456/310846117.py\u001b[0m in \u001b[0;36m<module>\u001b[1;34m\u001b[0m\n\u001b[1;32m----> 1\u001b[1;33m \u001b[0mbst\u001b[0m\u001b[1;33m.\u001b[0m\u001b[0mdelete\u001b[0m\u001b[1;33m(\u001b[0m\u001b[1;36m7\u001b[0m\u001b[1;33m)\u001b[0m\u001b[1;33m\u001b[0m\u001b[1;33m\u001b[0m\u001b[0m\n\u001b[0m",
      "\u001b[1;31mTypeError\u001b[0m: delete() missing 1 required positional argument: 'parent'"
     ]
    }
   ],
   "source": [
    "bst.delete(7)"
   ]
  },
  {
   "cell_type": "code",
   "execution_count": null,
   "id": "7f71083d",
   "metadata": {},
   "outputs": [],
   "source": []
  }
 ],
 "metadata": {
  "kernelspec": {
   "display_name": "Python 3 (ipykernel)",
   "language": "python",
   "name": "python3"
  },
  "language_info": {
   "codemirror_mode": {
    "name": "ipython",
    "version": 3
   },
   "file_extension": ".py",
   "mimetype": "text/x-python",
   "name": "python",
   "nbconvert_exporter": "python",
   "pygments_lexer": "ipython3",
   "version": "3.9.7"
  }
 },
 "nbformat": 4,
 "nbformat_minor": 5
}
