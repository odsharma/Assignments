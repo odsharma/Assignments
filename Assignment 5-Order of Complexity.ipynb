{
 "cells": [
  {
   "cell_type": "markdown",
   "id": "5214ae61",
   "metadata": {},
   "source": [
    "## Q1: Given array of sorted numbers, check if a number exists in them\n",
    "### Complexity : O(log n)"
   ]
  },
  {
   "cell_type": "code",
   "execution_count": 1,
   "id": "bb6f0887",
   "metadata": {},
   "outputs": [],
   "source": [
    "# Using recursion\n",
    "def search(arr_sorted,num):\n",
    "    if len(arr_sorted) ==0 :\n",
    "        return False\n",
    "    left = 0\n",
    "    right = len(arr_sorted)-1\n",
    "    mid =(left+right)//2\n",
    "    print(f\"left:{left} right:{right} mid:{mid} arr:{arr_sorted}\")\n",
    "    if(arr_sorted[mid] == num):\n",
    "        return True\n",
    "    if(arr_sorted[mid]< num):\n",
    "        return search(arr_sorted[mid+1:],num)\n",
    "    elif (arr_sorted[mid]> num):\n",
    "        return search(arr_sorted[:mid],num)"
   ]
  },
  {
   "cell_type": "code",
   "execution_count": 5,
   "id": "0a8ee374",
   "metadata": {},
   "outputs": [
    {
     "name": "stdout",
     "output_type": "stream",
     "text": [
      "left:0 right:4 mid:2 arr:[1, 2, 3, 5.5, 6]\n",
      "left:0 right:1 mid:0 arr:[5.5, 6]\n",
      "left:0 right:0 mid:0 arr:[6]\n"
     ]
    },
    {
     "data": {
      "text/plain": [
       "True"
      ]
     },
     "execution_count": 5,
     "metadata": {},
     "output_type": "execute_result"
    }
   ],
   "source": [
    "search([1,2,3,5.5,6],6)"
   ]
  },
  {
   "cell_type": "code",
   "execution_count": 62,
   "id": "13bdc123",
   "metadata": {},
   "outputs": [],
   "source": [
    "# Using while loop\n",
    "def search1(arr_sorted,num):\n",
    "    if len(arr_sorted) ==0 :\n",
    "        return False\n",
    "    left = 0\n",
    "    right = len(arr_sorted)-1\n",
    "    while True:\n",
    "        mid =(left+right)//2\n",
    "        if (left == right == mid):\n",
    "            if(arr_sorted[mid]==num):\n",
    "                return True\n",
    "            else:\n",
    "                return False\n",
    "        print(f\"left:{left} right:{right} mid:{mid} \")\n",
    "        if(arr_sorted[mid] == num):\n",
    "            return True\n",
    "        if(arr_sorted[mid]< num):\n",
    "            left=mid+1\n",
    "        elif (arr_sorted[mid]> num):\n",
    "            right=mid"
   ]
  },
  {
   "cell_type": "code",
   "execution_count": 65,
   "id": "b73c34a3",
   "metadata": {},
   "outputs": [
    {
     "name": "stdout",
     "output_type": "stream",
     "text": [
      "left:0 right:4 mid:2 \n",
      "left:3 right:4 mid:3 \n"
     ]
    },
    {
     "data": {
      "text/plain": [
       "True"
      ]
     },
     "execution_count": 65,
     "metadata": {},
     "output_type": "execute_result"
    }
   ],
   "source": [
    "search1([1,2,3,5.5,6],6)"
   ]
  },
  {
   "cell_type": "markdown",
   "id": "b8513472",
   "metadata": {},
   "source": [
    "### Q2: You have a list of 0s and 1s....find the count of 0s. the array is sorted.\n",
    "#### count_zeros([0,0,0,0,0,1,1,1,1,1,1]) -> 5\n",
    "### Complexity : O(log n)"
   ]
  },
  {
   "cell_type": "code",
   "execution_count": 16,
   "id": "edb9e593",
   "metadata": {},
   "outputs": [],
   "source": [
    "def count_zeros(arr_sorted):\n",
    "    if len(arr_sorted)==0:\n",
    "        return 0\n",
    "    left=0\n",
    "    right = len(arr_sorted)-1\n",
    "    while True:\n",
    "        mid =(left+right)//2\n",
    "        if left>right:\n",
    "            return left\n",
    "#         print(f\"left:{left} right:{right} mid:{mid} \")\n",
    "        if(arr_sorted[mid] == 0):\n",
    "            left=mid+1\n",
    "        elif arr_sorted[mid] == 1:\n",
    "            right=mid-1\n",
    "    "
   ]
  },
  {
   "cell_type": "code",
   "execution_count": 17,
   "id": "646c56e9",
   "metadata": {
    "scrolled": true
   },
   "outputs": [
    {
     "data": {
      "text/plain": [
       "7"
      ]
     },
     "execution_count": 17,
     "metadata": {},
     "output_type": "execute_result"
    }
   ],
   "source": [
    "count_zeros([0,0,0,0,0,0,0,1,1,1,1,1.2,1.3]) "
   ]
  },
  {
   "cell_type": "code",
   "execution_count": 18,
   "id": "7e3cd8a3",
   "metadata": {},
   "outputs": [],
   "source": [
    "def tester(test_cases):\n",
    "    for test_case in test_cases:\n",
    "        arr, expected = test_case\n",
    "        actual = count_zeros(arr)\n",
    "        print(\"Testing: \", arr)\n",
    "        if actual == expected:\n",
    "            print(\"\\tSuccess! \")\n",
    "        else:\n",
    "            print(f\"\\tFailed!. Expected {expected} but got {actual}\")"
   ]
  },
  {
   "cell_type": "code",
   "execution_count": 19,
   "id": "ed5c4e13",
   "metadata": {},
   "outputs": [],
   "source": [
    "test_cases = [\n",
    "    ([0], 1),\n",
    "    ([0, 1, 1], 1),\n",
    "    ([0, 0, 1], 2),    \n",
    "    ([1, 1, 1], 0),\n",
    "    ([0, 0, 0], 3),\n",
    "    ([1], 0),\n",
    "    ([], 0),\n",
    "    ([0]*100 + [1]*200, 100)\n",
    "]"
   ]
  },
  {
   "cell_type": "code",
   "execution_count": 20,
   "id": "3f59f8ce",
   "metadata": {},
   "outputs": [
    {
     "name": "stdout",
     "output_type": "stream",
     "text": [
      "Testing:  [0]\n",
      "\tSuccess! \n",
      "Testing:  [0, 1, 1]\n",
      "\tSuccess! \n",
      "Testing:  [0, 0, 1]\n",
      "\tSuccess! \n",
      "Testing:  [1, 1, 1]\n",
      "\tSuccess! \n",
      "Testing:  [0, 0, 0]\n",
      "\tSuccess! \n",
      "Testing:  [1]\n",
      "\tSuccess! \n",
      "Testing:  []\n",
      "\tSuccess! \n",
      "Testing:  [0, 0, 0, 0, 0, 0, 0, 0, 0, 0, 0, 0, 0, 0, 0, 0, 0, 0, 0, 0, 0, 0, 0, 0, 0, 0, 0, 0, 0, 0, 0, 0, 0, 0, 0, 0, 0, 0, 0, 0, 0, 0, 0, 0, 0, 0, 0, 0, 0, 0, 0, 0, 0, 0, 0, 0, 0, 0, 0, 0, 0, 0, 0, 0, 0, 0, 0, 0, 0, 0, 0, 0, 0, 0, 0, 0, 0, 0, 0, 0, 0, 0, 0, 0, 0, 0, 0, 0, 0, 0, 0, 0, 0, 0, 0, 0, 0, 0, 0, 0, 1, 1, 1, 1, 1, 1, 1, 1, 1, 1, 1, 1, 1, 1, 1, 1, 1, 1, 1, 1, 1, 1, 1, 1, 1, 1, 1, 1, 1, 1, 1, 1, 1, 1, 1, 1, 1, 1, 1, 1, 1, 1, 1, 1, 1, 1, 1, 1, 1, 1, 1, 1, 1, 1, 1, 1, 1, 1, 1, 1, 1, 1, 1, 1, 1, 1, 1, 1, 1, 1, 1, 1, 1, 1, 1, 1, 1, 1, 1, 1, 1, 1, 1, 1, 1, 1, 1, 1, 1, 1, 1, 1, 1, 1, 1, 1, 1, 1, 1, 1, 1, 1, 1, 1, 1, 1, 1, 1, 1, 1, 1, 1, 1, 1, 1, 1, 1, 1, 1, 1, 1, 1, 1, 1, 1, 1, 1, 1, 1, 1, 1, 1, 1, 1, 1, 1, 1, 1, 1, 1, 1, 1, 1, 1, 1, 1, 1, 1, 1, 1, 1, 1, 1, 1, 1, 1, 1, 1, 1, 1, 1, 1, 1, 1, 1, 1, 1, 1, 1, 1, 1, 1, 1, 1, 1, 1, 1, 1, 1, 1, 1, 1, 1, 1, 1, 1, 1, 1, 1, 1, 1, 1, 1, 1, 1, 1, 1, 1, 1, 1]\n",
      "\tSuccess! \n"
     ]
    }
   ],
   "source": [
    "tester(test_cases)"
   ]
  },
  {
   "cell_type": "markdown",
   "id": "0fe52aee",
   "metadata": {},
   "source": [
    "### # Q3: # Count 1s in a sorted array of numbers\n",
    "#### count_one([0,0,0,0,0,1,1,1,1,1,1,1.1, 1.2, 2])"
   ]
  },
  {
   "cell_type": "code",
   "execution_count": 171,
   "id": "9b792b2f",
   "metadata": {},
   "outputs": [],
   "source": [
    "def count_ones(arr_sorted):\n",
    "    if len(arr_sorted)==0:\n",
    "        return 0\n",
    "    left, left_index =0,0\n",
    "    right = len(arr_sorted)-1\n",
    "    if arr_sorted[0] != 1:\n",
    "        mid =(left+right)//2\n",
    "        while True:\n",
    "            print(f\"left_idx:{left_index} left:{left} right:{right} mid:{mid} \")\n",
    "            if arr_sorted[mid] == 0:\n",
    "                mid= mid+1\n",
    "            if arr_sorted[mid] == 1:\n",
    "                mid=mid-1\n",
    "            if arr_sorted[mid]==0 and arr_sorted[mid+1]==1:\n",
    "                left_index = mid+1\n",
    "                break\n",
    "        left = mid+1\n",
    "    print(left_index)\n",
    "    \n",
    "    while True:\n",
    "        mid =(left+right)//2\n",
    "        if left>right:\n",
    "            break\n",
    "        print(f\"left:{left} right:{right} mid:{mid} \")\n",
    "        if arr_sorted[mid] == 1:\n",
    "            left = mid+1   \n",
    "        elif arr_sorted[mid] > 1:\n",
    "            right=mid-1\n",
    "    print(right)\n",
    "    return right-left_index+1"
   ]
  },
  {
   "cell_type": "code",
   "execution_count": 175,
   "id": "2da4ef49",
   "metadata": {},
   "outputs": [
    {
     "name": "stdout",
     "output_type": "stream",
     "text": [
      "left_idx:0 left:0 right:10 mid:5 \n",
      "left_idx:0 left:0 right:10 mid:4 \n",
      "left_idx:0 left:0 right:10 mid:3 \n",
      "left_idx:0 left:0 right:10 mid:2 \n",
      "2\n",
      "left:2 right:10 mid:6 \n",
      "left:7 right:10 mid:8 \n",
      "left:7 right:7 mid:7 \n",
      "7\n"
     ]
    },
    {
     "data": {
      "text/plain": [
       "6"
      ]
     },
     "execution_count": 175,
     "metadata": {},
     "output_type": "execute_result"
    }
   ],
   "source": [
    "count_ones([0,0,1,1,1,1,1,1,1.1, 1.2, 2])"
   ]
  },
  {
   "cell_type": "code",
   "execution_count": 176,
   "id": "344ba322",
   "metadata": {},
   "outputs": [
    {
     "name": "stdout",
     "output_type": "stream",
     "text": [
      "0\n",
      "left:0 right:8 mid:4 \n",
      "left:5 right:8 mid:6 \n",
      "left:5 right:5 mid:5 \n",
      "5\n"
     ]
    },
    {
     "data": {
      "text/plain": [
       "6"
      ]
     },
     "execution_count": 176,
     "metadata": {},
     "output_type": "execute_result"
    }
   ],
   "source": [
    "count_ones([1,1,1,1,1,1,1.1, 1.2, 2])"
   ]
  },
  {
   "cell_type": "markdown",
   "id": "cfbd0d95",
   "metadata": {},
   "source": [
    "#### Q4 Given a number represented as string convert it integer\n",
    "### Complexity : O(n)"
   ]
  },
  {
   "cell_type": "code",
   "execution_count": 149,
   "id": "f7bc8764",
   "metadata": {},
   "outputs": [],
   "source": [
    "def to_num(s):\n",
    "    if len(s) == 0:\n",
    "        return 0\n",
    "    elif len(s) == 1:\n",
    "        return ord(s) - ord(\"0\")\n",
    "    else:\n",
    "        return to_num(s[:-1])*10 + to_num(s[-1])"
   ]
  },
  {
   "cell_type": "code",
   "execution_count": 150,
   "id": "1e86372f",
   "metadata": {},
   "outputs": [
    {
     "data": {
      "text/plain": [
       "145"
      ]
     },
     "execution_count": 150,
     "metadata": {},
     "output_type": "execute_result"
    }
   ],
   "source": [
    "to_num(\"145\")"
   ]
  },
  {
   "cell_type": "markdown",
   "id": "c64422dc",
   "metadata": {},
   "source": [
    "### Qn 5: You have two lists of numbers: \n",
    "####     First list: 100 numbes. not sorted m\n",
    "####     Second List: Millions of numbers. not sorted n\n",
    "#### Find all numbers which are common in these two lists\n",
    "### Complexity : O(n)"
   ]
  },
  {
   "cell_type": "code",
   "execution_count": 190,
   "id": "b997a045",
   "metadata": {},
   "outputs": [],
   "source": [
    "def common_numbers(arr1,arr2):\n",
    "#     return set(arr1).intersection(arr2) # O(n) \n",
    "    return set(arr1) & set(arr2)   # O(n)\n",
    "#     list = [value for value in set(arr1) if value in arr2] # O(n^2)\n",
    "#     return list\n",
    "            "
   ]
  },
  {
   "cell_type": "code",
   "execution_count": 191,
   "id": "753e528f",
   "metadata": {},
   "outputs": [
    {
     "data": {
      "text/plain": [
       "{9, 11}"
      ]
     },
     "execution_count": 191,
     "metadata": {},
     "output_type": "execute_result"
    }
   ],
   "source": [
    "common_numbers([9, 9, 74, 21, 45, 11, 63],[ 4, 9, 1, 17, 11, 26, 28, 28, 26, 66, 91])"
   ]
  },
  {
   "cell_type": "code",
   "execution_count": null,
   "id": "4013d2c1",
   "metadata": {},
   "outputs": [],
   "source": []
  }
 ],
 "metadata": {
  "kernelspec": {
   "display_name": "Python 3 (ipykernel)",
   "language": "python",
   "name": "python3"
  },
  "language_info": {
   "codemirror_mode": {
    "name": "ipython",
    "version": 3
   },
   "file_extension": ".py",
   "mimetype": "text/x-python",
   "name": "python",
   "nbconvert_exporter": "python",
   "pygments_lexer": "ipython3",
   "version": "3.9.7"
  }
 },
 "nbformat": 4,
 "nbformat_minor": 5
}
