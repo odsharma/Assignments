{
 "cells": [
  {
   "cell_type": "code",
   "execution_count": 1,
   "id": "405d2996",
   "metadata": {},
   "outputs": [],
   "source": [
    "def read_nxt_lines(fh, num):\n",
    "    count = 0\n",
    "    result = []\n",
    "    while count < num:\n",
    "        res_l = fh.readline()\n",
    "        if len(res_l) > 0:\n",
    "            result.append(res_l)\n",
    "        else:\n",
    "            break\n",
    "        count += 1\n",
    "    return result"
   ]
  },
  {
   "cell_type": "code",
   "execution_count": 2,
   "id": "321a996e",
   "metadata": {},
   "outputs": [],
   "source": [
    "def last_n_lines(file_name, num=10):\n",
    "    fh = open(file_name)\n",
    "    # we will read 10 lines using read_nxt_lines(fh, 10)\n",
    "    prev = []\n",
    "    nxt = []\n",
    "    while True:\n",
    "        nxt = read_nxt_lines(fh, num)\n",
    "        if len(nxt) < num:\n",
    "            break\n",
    "        else:\n",
    "            prev = nxt\n",
    "    fh.close()\n",
    "    l = len(nxt)\n",
    "    diff = num - l\n",
    "    return prev[-diff:] + nxt"
   ]
  },
  {
   "cell_type": "code",
   "execution_count": 4,
   "id": "2538c62f",
   "metadata": {},
   "outputs": [
    {
     "data": {
      "text/plain": [
       "[\"  big = file('big.txt').read()\\n\",\n",
       " '  N = len(big)\\n',\n",
       " '  s = set()\\n',\n",
       " '  for i in xrange(6, N):\\n',\n",
       " '    c = big[i]\\n',\n",
       " '    if ord(c) > 127 and c not in s:\\n',\n",
       " '        print i, c, ord(c), big[max(0, i-10):min(N, i+10)]\\n',\n",
       " '        s.add(c)\\n',\n",
       " '  print s\\n',\n",
       " '  print [ord(c) for c in s]\\n']"
      ]
     },
     "execution_count": 4,
     "metadata": {},
     "output_type": "execute_result"
    }
   ],
   "source": [
    "last_n_lines(\"big.txt\",10)"
   ]
  },
  {
   "cell_type": "markdown",
   "id": "7f19f7ff",
   "metadata": {},
   "source": [
    "## Q1: Rewrite this code to make it using circular buffer\n",
    "\n",
    "#### read a line\n",
    "#### append a line\n",
    "#### if size of the buffer is > 10, knock out the first\n"
   ]
  },
  {
   "cell_type": "code",
   "execution_count": 44,
   "id": "bd841dfe",
   "metadata": {},
   "outputs": [],
   "source": [
    "def last_n_lines_circular(file_name, num=10):\n",
    "    fh=open(file_name)\n",
    "    eof = fh.seek(0,2)\n",
    "    fh.seek(0,0)\n",
    "    fh=open(file_name)\n",
    "    circular_lst =[]\n",
    "    while fh.tell()!=eof:\n",
    "        if len(circular_lst)<num:\n",
    "            circular_lst.append(fh.readline())\n",
    "        else:\n",
    "            circular_lst.pop(0)\n",
    "            circular_lst.append(fh.readline())\n",
    "    fh.close()\n",
    "    return circular_lst"
   ]
  },
  {
   "cell_type": "code",
   "execution_count": 46,
   "id": "73590d27",
   "metadata": {},
   "outputs": [
    {
     "data": {
      "text/plain": [
       "['SAK-11458\\n',\n",
       " 'http://bugs.sakaiproject.org/jira/browse/SAK-11458\\n',\n",
       " 'Course grade does not appear on \"All Grades\" page if no categories in gb\\n',\n",
       " '------------------------------------------------------------------------\\n',\n",
       " '\\n',\n",
       " '\\n',\n",
       " '----------------------\\n',\n",
       " 'This automatic notification message was sent by Sakai Collab (https://collab.sakaiproject.org/portal) from the Source site.\\n',\n",
       " 'You can modify how you receive notifications at My Workspace > Preferences.\\n',\n",
       " '\\n']"
      ]
     },
     "execution_count": 46,
     "metadata": {},
     "output_type": "execute_result"
    }
   ],
   "source": [
    "last_n_lines_circular(\"mbox-short.txt\",10)\n"
   ]
  },
  {
   "cell_type": "markdown",
   "id": "1532ac46",
   "metadata": {},
   "source": [
    "# Q2: Write a program to simulate circular buffer\n",
    "### circle_append(lst, element)\n"
   ]
  },
  {
   "cell_type": "code",
   "execution_count": 47,
   "id": "3d178df9",
   "metadata": {},
   "outputs": [],
   "source": [
    "def circle_append(lst,element):\n",
    "    if (len(lst)>1):\n",
    "        lst.pop(0)\n",
    "    lst.append(element)\n",
    "    return lst"
   ]
  },
  {
   "cell_type": "markdown",
   "id": "dd66e0f8",
   "metadata": {},
   "source": [
    "# Q3:Find Longest Line in the file"
   ]
  },
  {
   "cell_type": "code",
   "execution_count": 50,
   "id": "327c7a69",
   "metadata": {},
   "outputs": [],
   "source": [
    "def longest_line(filename):\n",
    "    fh=open(filename)\n",
    "    max_length, longest_line = 0,''\n",
    "    for line in fh:\n",
    "        if len(line)>max_length:\n",
    "            longest_line = line\n",
    "            max_length =len(line)\n",
    "    fh.close()\n",
    "    return (max_length,longest_line)\n",
    "            "
   ]
  },
  {
   "cell_type": "code",
   "execution_count": 51,
   "id": "a0c098c3",
   "metadata": {},
   "outputs": [
    {
     "data": {
      "text/plain": [
       "(685,\n",
       " 'Subject: [sakai] svn commit: r39755 - in sam/branches/SAK-12065: samigo-api/src/java/org/sakaiproject/tool/assessment/shared/api/grading samigo-app/src/java/org/sakaiproject/tool/assessment/ui/bean/evaluation samigo-app/src/java/org/sakaiproject/tool/assessment/ui/listener/evaluation samigo-services/src/java/org/sakaiproject/tool/assessment/facade samigo-services/src/java/org/sakaiproject/tool/assessment/integration/helper/ifc samigo-services/src/java/org/sakaiproject/tool/assessment/integration/helper/integrated samigo-services/src/java/org/sakaiproject/tool/assessment/integration/helper/standalone samigo-services/src/java/org/sakaiproject/tool/assessment/shared/impl/grading\\n')"
      ]
     },
     "execution_count": 51,
     "metadata": {},
     "output_type": "execute_result"
    }
   ],
   "source": [
    "longest_line(\"mbox-short.txt\")"
   ]
  },
  {
   "cell_type": "markdown",
   "id": "57d7a3ee",
   "metadata": {},
   "source": [
    "# Q4: Implement last_n_lines method using traversing"
   ]
  },
  {
   "cell_type": "code",
   "execution_count": 80,
   "id": "4c03b71e",
   "metadata": {},
   "outputs": [],
   "source": [
    "def last_n_lines_traverse(filename, num=10):\n",
    "    n_lines=[]\n",
    "    fh=open(filename)\n",
    "    total_lines=0\n",
    "    for line in fh:\n",
    "        total_lines+=1\n",
    "    fh.seek(0,0)\n",
    "    startFrom =total_lines-num\n",
    "    count=0\n",
    "    if(startFrom >=0):\n",
    "        for line in fh:\n",
    "            count+=1\n",
    "            if count>startFrom:\n",
    "                n_lines.append(line)  \n",
    "    else:\n",
    "        for line in fh:\n",
    "            n_lines.append(line)\n",
    "    fh.close()\n",
    "    return n_lines"
   ]
  },
  {
   "cell_type": "code",
   "execution_count": 81,
   "id": "cabc5917",
   "metadata": {},
   "outputs": [
    {
     "data": {
      "text/plain": [
       "['SAK-11458\\n',\n",
       " 'http://bugs.sakaiproject.org/jira/browse/SAK-11458\\n',\n",
       " 'Course grade does not appear on \"All Grades\" page if no categories in gb\\n',\n",
       " '------------------------------------------------------------------------\\n',\n",
       " '\\n',\n",
       " '\\n',\n",
       " '----------------------\\n',\n",
       " 'This automatic notification message was sent by Sakai Collab (https://collab.sakaiproject.org/portal) from the Source site.\\n',\n",
       " 'You can modify how you receive notifications at My Workspace > Preferences.\\n',\n",
       " '\\n']"
      ]
     },
     "execution_count": 81,
     "metadata": {},
     "output_type": "execute_result"
    }
   ],
   "source": [
    "last_n_lines_traverse(\"mbox-short.txt\",10)"
   ]
  },
  {
   "cell_type": "code",
   "execution_count": null,
   "id": "996517f6",
   "metadata": {},
   "outputs": [],
   "source": []
  }
 ],
 "metadata": {
  "kernelspec": {
   "display_name": "Python 3 (ipykernel)",
   "language": "python",
   "name": "python3"
  },
  "language_info": {
   "codemirror_mode": {
    "name": "ipython",
    "version": 3
   },
   "file_extension": ".py",
   "mimetype": "text/x-python",
   "name": "python",
   "nbconvert_exporter": "python",
   "pygments_lexer": "ipython3",
   "version": "3.9.7"
  }
 },
 "nbformat": 4,
 "nbformat_minor": 5
}
