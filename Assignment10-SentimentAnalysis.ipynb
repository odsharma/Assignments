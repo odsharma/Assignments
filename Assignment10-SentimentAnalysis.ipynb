{
 "cells": [
  {
   "cell_type": "code",
   "execution_count": 1,
   "id": "ebde8087",
   "metadata": {},
   "outputs": [],
   "source": [
    "with open('openapikey.txt') as fh:\n",
    "    apiKey = fh.read()"
   ]
  },
  {
   "cell_type": "code",
   "execution_count": 2,
   "id": "c0fb405a",
   "metadata": {},
   "outputs": [],
   "source": [
    "import os\n",
    "os.environ[\"OPENAI_API_KEY\"] = (apiKey)\n"
   ]
  },
  {
   "cell_type": "code",
   "execution_count": 11,
   "id": "c12d47fd",
   "metadata": {},
   "outputs": [
    {
     "name": "stdout",
     "output_type": "stream",
     "text": [
      "{\n",
      "    \"error\": {\n",
      "        \"message\": \"You didn't provide an API key. You need to provide your API key in an Authorization header using Bearer auth (i.e. Authorization: Bearer YOUR_KEY), or as the password field (with blank username) if you're accessing the API from your browser and are prompted for a username and password. You can obtain an API key from https://platform.openai.com/account/api-keys.\",\n",
      "        \"type\": \"invalid_request_error\",\n",
      "        \"param\": null,\n",
      "        \"code\": null\n",
      "    }\n",
      "}\n"
     ]
    },
    {
     "name": "stderr",
     "output_type": "stream",
     "text": [
      "  % Total    % Received % Xferd  Average Speed   Time    Time     Time  Current\n",
      "                                 Dload  Upload   Total   Spent    Left  Speed\n",
      "\n",
      "  0     0    0     0    0     0      0      0 --:--:-- --:--:-- --:--:--     0\n",
      "  0     0    0     0    0     0      0      0 --:--:-- --:--:-- --:--:--     0\n",
      "100   498  100   496  100     2   1154      4 --:--:-- --:--:-- --:--:--  1158\n",
      "curl: (3) URL using bad/illegal format or missing URL\n",
      "curl: (3) URL using bad/illegal format or missing URL\n",
      "curl: (3) URL using bad/illegal format or missing URL\n",
      "curl: (3) unmatched close brace/bracket in URL position 6:\n",
      "float}'\n",
      "     ^\n"
     ]
    }
   ],
   "source": [
    "#Getting embedding from command line\n",
    "\n",
    "!curl https://api.openai.com/v1/embeddings \\\n",
    "  -H f\"Authorization: Bearer {apiKey}\" \\\n",
    "  -H \"Content-Type: application/json\" \\\n",
    "  -d '{ \"input\": \"The food was delicious and the waiter...\",\"model\": \"text-embedding-ada-002\",\"encoding_format\": \"float\"}'\n"
   ]
  },
  {
   "cell_type": "code",
   "execution_count": 4,
   "id": "78db3c18",
   "metadata": {},
   "outputs": [],
   "source": [
    "import numpy as np\n",
    "import urllib.request\n",
    "import json\n",
    "import math\n",
    "\n",
    "# Define the endpoint URL\n",
    "url = 'https://api.openai.com/v1/embeddings'\n",
    "\n",
    "# Create a function to make the API request\n",
    "def get_openai_embedding(prompt):\n",
    "    headers = {\n",
    "        'Authorization': f'Bearer {apiKey}',\n",
    "        'Content-Type': 'application/json',\n",
    "    }\n",
    "    data = {\n",
    "        \"input\": prompt,    \n",
    "        \"model\": \"text-embedding-ada-002\"\n",
    "    }\n",
    "    \n",
    "    # Encode the data and make the POST request\n",
    "    data = json.dumps(data).encode('utf-8')\n",
    "    req = urllib.request.Request(url, data=data, headers=headers, method='POST')\n",
    "    \n",
    "    try:\n",
    "        response = urllib.request.urlopen(req)\n",
    "        response_data = json.loads(response.read().decode('utf-8'))\n",
    "        return np.array(response_data['data'][0]['embedding'])\n",
    "    except urllib.error.HTTPError as e:\n",
    "        print(f\"HTTP Error: {e}\")\n",
    "        return None"
   ]
  },
  {
   "cell_type": "code",
   "execution_count": 5,
   "id": "dcfff6cd",
   "metadata": {},
   "outputs": [],
   "source": [
    "embedding = get_openai_embedding(\"How are you\")"
   ]
  },
  {
   "cell_type": "code",
   "execution_count": 6,
   "id": "831e8a26",
   "metadata": {},
   "outputs": [],
   "source": [
    "import matplotlib.pyplot as plt\n",
    "from mpl_toolkits.mplot3d import Axes3D"
   ]
  },
  {
   "cell_type": "code",
   "execution_count": 7,
   "id": "4c02e40e",
   "metadata": {},
   "outputs": [],
   "source": [
    "from sklearn.decomposition import PCA\n",
    "\n",
    "def visualize_pca_2d(embeddings, words):\n",
    "    pca_2d = PCA(n_components=2)\n",
    "    embeddings_2d = pca_2d.fit_transform(embeddings)\n",
    "\n",
    "    # Create a 2D scatter plot\n",
    "    plt.figure(figsize=(10, 6))\n",
    "    plt.scatter(embeddings_2d[:, 0], embeddings_2d[:, 1], marker='o')\n",
    "    for i, word in enumerate(words):\n",
    "        plt.annotate(word, (embeddings_2d[i, 0], embeddings_2d[i, 1]))\n",
    "\n",
    "    plt.xlabel(\"Principal Component 1\")\n",
    "    plt.ylabel(\"Principal Component 2\")\n",
    "    plt.title(\"2D Visualization of Word Embeddings\")\n",
    "    plt.grid(True)\n",
    "    plt.show()"
   ]
  },
  {
   "cell_type": "code",
   "execution_count": 8,
   "id": "cd57f207",
   "metadata": {},
   "outputs": [
    {
     "data": {
      "image/png": "[encoded data removed]",
      "text/plain": [
       "<Figure size 720x432 with 1 Axes>"
      ]
     },
     "metadata": {
      "needs_background": "light"
     },
     "output_type": "display_data"
    }
   ],
   "source": [
    "words = ['cat', 'dog', 'bike', 'kitten', 'puppy', 'bicycle', 'aeroplane', 'helicopter', 'cow', 'wolf', 'lion', 'fighter jet']\n",
    "embeddings = []\n",
    "for i in words:\n",
    "    embeddings.append(get_openai_embedding(i))\n",
    "visualize_pca_2d(embeddings, words)"
   ]
  },
  {
   "cell_type": "code",
   "execution_count": 15,
   "id": "bd5b4b83",
   "metadata": {},
   "outputs": [],
   "source": [
    "# Calculate the Euclidean distance\n",
    "def calculate_distance(point1, point2):\n",
    "    distance_nd = sum((x - y) ** 2 for x, y in zip(point2, point1))**0.5\n",
    "    return distance_nd"
   ]
  },
  {
   "cell_type": "code",
   "execution_count": 16,
   "id": "2ce12d05",
   "metadata": {},
   "outputs": [],
   "source": [
    "cat = get_openai_embedding('cat')\n",
    "dog = get_openai_embedding('dog')\n",
    "car = get_openai_embedding('car')\n",
    "bike = get_openai_embedding('bike')"
   ]
  },
  {
   "cell_type": "code",
   "execution_count": 17,
   "id": "216fb8b8",
   "metadata": {},
   "outputs": [
    {
     "name": "stdout",
     "output_type": "stream",
     "text": [
      "Distance between 'cat' and 'dog': 0.52\n",
      "Distance between 'cat' and 'car': 0.56\n",
      "Distance between 'cat' and 'bike': 0.61\n",
      "Distance between 'bike' and 'car': 0.54\n",
      "Distance between 'bike' and 'dog': 0.58\n",
      "'cat' is closer to 'dog' than to 'car' or 'bike'.\n",
      "'bike' is closer to 'car' than to 'dog' or 'cat'.\n"
     ]
    }
   ],
   "source": [
    "# Calculate distances between embeddings\n",
    "distance_cat_dog = calculate_distance(cat, dog)\n",
    "distance_cat_car = calculate_distance(cat, car)\n",
    "distance_cat_bike = calculate_distance(cat, bike)\n",
    "distance_bike_car = calculate_distance(bike, car)\n",
    "distance_bike_dog = calculate_distance(bike, dog)\n",
    "\n",
    "# Display distances\n",
    "print(f\"Distance between 'cat' and 'dog': {distance_cat_dog:.2f}\")\n",
    "print(f\"Distance between 'cat' and 'car': {distance_cat_car:.2f}\")\n",
    "print(f\"Distance between 'cat' and 'bike': {distance_cat_bike:.2f}\")\n",
    "print(f\"Distance between 'bike' and 'car': {distance_bike_car:.2f}\")\n",
    "print(f\"Distance between 'bike' and 'dog': {distance_bike_dog:.2f}\")\n",
    "\n",
    "# Compare distances\n",
    "if distance_cat_dog < distance_cat_car and distance_cat_dog < distance_cat_bike:\n",
    "    print(\"'cat' is closer to 'dog' than to 'car' or 'bike'.\")\n",
    "\n",
    "if distance_bike_car < distance_bike_dog and distance_bike_car < distance_cat_bike:\n",
    "    print(\"'bike' is closer to 'car' than to 'dog' or 'cat'.\")"
   ]
  },
  {
   "cell_type": "code",
   "execution_count": 18,
   "id": "454e5bbd",
   "metadata": {},
   "outputs": [],
   "source": [
    "embeddings_good_review = get_openai_embedding('The product is amazing')\n",
    "embeddings_bad_review = get_openai_embedding('The product is not good')\n",
    "embd_positive = get_openai_embedding('positive')\n",
    "embd_neg = get_openai_embedding('negative')"
   ]
  },
  {
   "cell_type": "code",
   "execution_count": 19,
   "id": "20c0bed2",
   "metadata": {},
   "outputs": [
    {
     "data": {
      "image/png": "[encoded data removed]",
      "text/plain": [
       "<Figure size 720x432 with 1 Axes>"
      ]
     },
     "metadata": {
      "needs_background": "light"
     },
     "output_type": "display_data"
    }
   ],
   "source": [
    "sent_embeddings = np.array([embeddings_good_review, embeddings_bad_review, embd_positive, embd_neg])\n",
    "visualize_pca_2d(sent_embeddings, words = ['The product is amazing', 'The product is not good',\n",
    "                                              'positive', 'negative'])"
   ]
  },
  {
   "cell_type": "code",
   "execution_count": 20,
   "id": "7df33f9b",
   "metadata": {},
   "outputs": [
    {
     "data": {
      "text/plain": [
       "0.6679850380335637"
      ]
     },
     "execution_count": 20,
     "metadata": {},
     "output_type": "execute_result"
    }
   ],
   "source": [
    "calculate_distance(embeddings_good_review, embd_positive)\n"
   ]
  },
  {
   "cell_type": "code",
   "execution_count": 21,
   "id": "18d3c6c5",
   "metadata": {},
   "outputs": [
    {
     "data": {
      "text/plain": [
       "0.6333440247603926"
      ]
     },
     "execution_count": 21,
     "metadata": {},
     "output_type": "execute_result"
    }
   ],
   "source": [
    "calculate_distance(embeddings_bad_review, embd_neg)\n"
   ]
  },
  {
   "cell_type": "code",
   "execution_count": 22,
   "id": "0e2708b5",
   "metadata": {},
   "outputs": [
    {
     "data": {
      "text/plain": [
       "(0.6875927297300988, 0.6333440247603926)"
      ]
     },
     "execution_count": 22,
     "metadata": {},
     "output_type": "execute_result"
    }
   ],
   "source": [
    "calculate_distance(embeddings_bad_review, embd_positive), calculate_distance(embeddings_bad_review, embd_neg)"
   ]
  },
  {
   "cell_type": "code",
   "execution_count": 23,
   "id": "59f25782",
   "metadata": {},
   "outputs": [],
   "source": [
    "def is_positive(review):\n",
    "    embed_review = get_openai_embedding(review)\n",
    "    dist_pos = calculate_distance(embed_review, embd_positive)\n",
    "    dist_neg = calculate_distance(embed_review, embd_neg)\n",
    "    if dist_pos < dist_neg:\n",
    "        print(\"It is a positive review\")\n",
    "        return True\n",
    "    else:\n",
    "        print(\"It is a negative review\")\n",
    "        return False"
   ]
  },
  {
   "cell_type": "code",
   "execution_count": 24,
   "id": "46e18fe5",
   "metadata": {},
   "outputs": [
    {
     "name": "stdout",
     "output_type": "stream",
     "text": [
      "It is a negative review\n"
     ]
    },
    {
     "data": {
      "text/plain": [
       "False"
      ]
     },
     "execution_count": 24,
     "metadata": {},
     "output_type": "execute_result"
    }
   ],
   "source": [
    "is_positive(\"Camera quality is too worst. Don't buy this if you want good photos. We can get this quality pictures with 5000 rupees android phone. I am totally disappointed because I expected range of iPhone camera quality but not this.. Waste of money.\")"
   ]
  },
  {
   "cell_type": "code",
   "execution_count": 25,
   "id": "673961de",
   "metadata": {},
   "outputs": [
    {
     "name": "stdout",
     "output_type": "stream",
     "text": [
      "It is a negative review\n"
     ]
    },
    {
     "data": {
      "text/plain": [
       "False"
      ]
     },
     "execution_count": 25,
     "metadata": {},
     "output_type": "execute_result"
    }
   ],
   "source": [
    "is_positive(\"At first it seemed like a great product but my expected were changed completed.\")"
   ]
  },
  {
   "cell_type": "code",
   "execution_count": 26,
   "id": "e039878f",
   "metadata": {},
   "outputs": [
    {
     "name": "stdout",
     "output_type": "stream",
     "text": [
      "It is a positive review\n"
     ]
    },
    {
     "data": {
      "text/plain": [
       "True"
      ]
     },
     "execution_count": 26,
     "metadata": {},
     "output_type": "execute_result"
    }
   ],
   "source": [
    "is_positive(\"At first, it seemed like a bad product but it met my expectations.\")"
   ]
  },
  {
   "cell_type": "code",
   "execution_count": null,
   "id": "d4cbccc1",
   "metadata": {},
   "outputs": [],
   "source": []
  }
 ],
 "metadata": {
  "kernelspec": {
   "display_name": "Python 3 (ipykernel)",
   "language": "python",
   "name": "python3"
  },
  "language_info": {
   "codemirror_mode": {
    "name": "ipython",
    "version": 3
   },
   "file_extension": ".py",
   "mimetype": "text/x-python",
   "name": "python",
   "nbconvert_exporter": "python",
   "pygments_lexer": "ipython3",
   "version": "3.9.7"
  }
 },
 "nbformat": 4,
 "nbformat_minor": 5
}
