#Find the next n lines line in the file (line ending with /n)
def read_n_lines(filename,n):
    count = 0 
    lines = []
    f = open(filename)
    while (count < n):
        ln = f.readline()
        if len(ln) > 0:
            lines.append(ln)
        else: 
            break
        count+=1  
    f.close()
    return lines


#Find the last n lines line in the file (line ending with /n)
def last_n_lines(filename,n):
    fl = open(filename)
    count = 0 
    lines = []
    while True:
        ln = fl.readline()
        if len(ln) > 0:
            lines.append(ln)
            if len(lines) > n:
                lines.pop(0)
        else: 
            break
        count+=1  
    f.close()
    return lines
        
        
        
n_lines = last_n_lines('/cxldata/big.txt',5)
for line in n_lines:
    print(line)